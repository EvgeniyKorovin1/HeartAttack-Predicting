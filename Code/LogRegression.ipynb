{
  "nbformat": 4,
  "nbformat_minor": 0,
  "metadata": {
    "colab": {
      "provenance": []
    },
    "kernelspec": {
      "name": "python3",
      "display_name": "Python 3"
    },
    "language_info": {
      "name": "python"
    }
  },
  "cells": [
    {
      "cell_type": "code",
      "execution_count": 5,
      "metadata": {
        "colab": {
          "base_uri": "https://localhost:8080/"
        },
        "id": "Hbjac1aTIR91",
        "outputId": "634f4593-76e7-43ed-c9a1-97592effb1eb"
      },
      "outputs": [
        {
          "output_type": "stream",
          "name": "stdout",
          "text": [
            "   age  sex  cp  trtbps  chol  fbs  restecg  thalachh  exng  oldpeak  slp  \\\n",
            "0   63    1   3     145   233    1        0       150     0      2.3    0   \n",
            "1   37    1   2     130   250    0        1       187     0      3.5    0   \n",
            "2   41    0   1     130   204    0        0       172     0      1.4    2   \n",
            "3   56    1   1     120   236    0        1       178     0      0.8    2   \n",
            "4   57    0   0     120   354    0        1       163     1      0.6    2   \n",
            "\n",
            "   caa  thall  output  \n",
            "0    0      1       1  \n",
            "1    0      2       1  \n",
            "2    0      2       1  \n",
            "3    0      2       1  \n",
            "4    0      2       1  \n"
          ]
        }
      ],
      "source": [
        "import pandas as pd\n",
        "\n",
        "file_name = \"heart.csv\"\n",
        "df = pd.read_csv(file_name)\n",
        "print(df.head())"
      ]
    },
    {
      "cell_type": "code",
      "source": [
        "columns_to_drop = ['chol', 'fbs']\n",
        "df = df.drop(columns=columns_to_drop)\n",
        "print(df)"
      ],
      "metadata": {
        "colab": {
          "base_uri": "https://localhost:8080/"
        },
        "id": "fSeP_U7BIdPJ",
        "outputId": "29195b74-8d08-43cf-9721-7b09ef75a6f8"
      },
      "execution_count": 6,
      "outputs": [
        {
          "output_type": "stream",
          "name": "stdout",
          "text": [
            "     age  sex  cp  trtbps  restecg  thalachh  exng  oldpeak  slp  caa  thall  \\\n",
            "0     63    1   3     145        0       150     0      2.3    0    0      1   \n",
            "1     37    1   2     130        1       187     0      3.5    0    0      2   \n",
            "2     41    0   1     130        0       172     0      1.4    2    0      2   \n",
            "3     56    1   1     120        1       178     0      0.8    2    0      2   \n",
            "4     57    0   0     120        1       163     1      0.6    2    0      2   \n",
            "..   ...  ...  ..     ...      ...       ...   ...      ...  ...  ...    ...   \n",
            "298   57    0   0     140        1       123     1      0.2    1    0      3   \n",
            "299   45    1   3     110        1       132     0      1.2    1    0      3   \n",
            "300   68    1   0     144        1       141     0      3.4    1    2      3   \n",
            "301   57    1   0     130        1       115     1      1.2    1    1      3   \n",
            "302   57    0   1     130        0       174     0      0.0    1    1      2   \n",
            "\n",
            "     output  \n",
            "0         1  \n",
            "1         1  \n",
            "2         1  \n",
            "3         1  \n",
            "4         1  \n",
            "..      ...  \n",
            "298       0  \n",
            "299       0  \n",
            "300       0  \n",
            "301       0  \n",
            "302       0  \n",
            "\n",
            "[303 rows x 12 columns]\n"
          ]
        }
      ]
    },
    {
      "cell_type": "code",
      "source": [
        "!pip install scikit-learn"
      ],
      "metadata": {
        "colab": {
          "base_uri": "https://localhost:8080/"
        },
        "id": "qTikcD3-McVx",
        "outputId": "a9189f34-a222-418a-e4e5-e9ca724a2328"
      },
      "execution_count": 7,
      "outputs": [
        {
          "output_type": "stream",
          "name": "stdout",
          "text": [
            "Requirement already satisfied: scikit-learn in /usr/local/lib/python3.10/dist-packages (1.2.2)\n",
            "Requirement already satisfied: numpy>=1.17.3 in /usr/local/lib/python3.10/dist-packages (from scikit-learn) (1.23.5)\n",
            "Requirement already satisfied: scipy>=1.3.2 in /usr/local/lib/python3.10/dist-packages (from scikit-learn) (1.10.1)\n",
            "Requirement already satisfied: joblib>=1.1.1 in /usr/local/lib/python3.10/dist-packages (from scikit-learn) (1.3.2)\n",
            "Requirement already satisfied: threadpoolctl>=2.0.0 in /usr/local/lib/python3.10/dist-packages (from scikit-learn) (3.2.0)\n"
          ]
        }
      ]
    },
    {
      "cell_type": "code",
      "source": [
        "from sklearn.model_selection import train_test_split\n",
        "from sklearn.preprocessing import StandardScaler\n",
        "from sklearn.linear_model import LogisticRegression\n",
        "from sklearn.metrics import accuracy_score"
      ],
      "metadata": {
        "id": "MGF-vLVeMXh6"
      },
      "execution_count": 8,
      "outputs": []
    },
    {
      "cell_type": "code",
      "source": [
        "# Разделение данных на признаки x и целевую переменную y\n",
        "\n",
        "X = df.drop('output', axis=1)\n",
        "y = df['output']"
      ],
      "metadata": {
        "id": "nz_Nmyh7IwTP"
      },
      "execution_count": 9,
      "outputs": []
    },
    {
      "cell_type": "code",
      "source": [
        "# Разделение на обучающую и тестовую выборки\n",
        "X_train, X_test, y_train, y_test = train_test_split(X, y, test_size=0.2, random_state=42)"
      ],
      "metadata": {
        "id": "LTbDs5ksNMS-"
      },
      "execution_count": 10,
      "outputs": []
    },
    {
      "cell_type": "code",
      "source": [
        "# Стандартизация признаков\n",
        "scaler = StandardScaler()\n",
        "X_train_scaled = scaler.fit_transform(X_train)\n",
        "X_test_scaled = scaler.transform(X_test)"
      ],
      "metadata": {
        "id": "ewkGwcwuNaDc"
      },
      "execution_count": 11,
      "outputs": []
    },
    {
      "cell_type": "code",
      "source": [
        "#создание модели\n",
        "model_reg=LogisticRegression()\n"
      ],
      "metadata": {
        "id": "fIAtwJPQM10_"
      },
      "execution_count": 12,
      "outputs": []
    },
    {
      "cell_type": "code",
      "source": [
        "#обучение модели\n",
        "model_reg.fit(X_train_scaled, y_train)"
      ],
      "metadata": {
        "colab": {
          "base_uri": "https://localhost:8080/",
          "height": 74
        },
        "id": "_hoUaTj7OJi9",
        "outputId": "c1bcbd9c-e35c-454c-adac-9dffc53d6348"
      },
      "execution_count": 13,
      "outputs": [
        {
          "output_type": "execute_result",
          "data": {
            "text/plain": [
              "LogisticRegression()"
            ],
            "text/html": [
              "<style>#sk-container-id-1 {color: black;background-color: white;}#sk-container-id-1 pre{padding: 0;}#sk-container-id-1 div.sk-toggleable {background-color: white;}#sk-container-id-1 label.sk-toggleable__label {cursor: pointer;display: block;width: 100%;margin-bottom: 0;padding: 0.3em;box-sizing: border-box;text-align: center;}#sk-container-id-1 label.sk-toggleable__label-arrow:before {content: \"▸\";float: left;margin-right: 0.25em;color: #696969;}#sk-container-id-1 label.sk-toggleable__label-arrow:hover:before {color: black;}#sk-container-id-1 div.sk-estimator:hover label.sk-toggleable__label-arrow:before {color: black;}#sk-container-id-1 div.sk-toggleable__content {max-height: 0;max-width: 0;overflow: hidden;text-align: left;background-color: #f0f8ff;}#sk-container-id-1 div.sk-toggleable__content pre {margin: 0.2em;color: black;border-radius: 0.25em;background-color: #f0f8ff;}#sk-container-id-1 input.sk-toggleable__control:checked~div.sk-toggleable__content {max-height: 200px;max-width: 100%;overflow: auto;}#sk-container-id-1 input.sk-toggleable__control:checked~label.sk-toggleable__label-arrow:before {content: \"▾\";}#sk-container-id-1 div.sk-estimator input.sk-toggleable__control:checked~label.sk-toggleable__label {background-color: #d4ebff;}#sk-container-id-1 div.sk-label input.sk-toggleable__control:checked~label.sk-toggleable__label {background-color: #d4ebff;}#sk-container-id-1 input.sk-hidden--visually {border: 0;clip: rect(1px 1px 1px 1px);clip: rect(1px, 1px, 1px, 1px);height: 1px;margin: -1px;overflow: hidden;padding: 0;position: absolute;width: 1px;}#sk-container-id-1 div.sk-estimator {font-family: monospace;background-color: #f0f8ff;border: 1px dotted black;border-radius: 0.25em;box-sizing: border-box;margin-bottom: 0.5em;}#sk-container-id-1 div.sk-estimator:hover {background-color: #d4ebff;}#sk-container-id-1 div.sk-parallel-item::after {content: \"\";width: 100%;border-bottom: 1px solid gray;flex-grow: 1;}#sk-container-id-1 div.sk-label:hover label.sk-toggleable__label {background-color: #d4ebff;}#sk-container-id-1 div.sk-serial::before {content: \"\";position: absolute;border-left: 1px solid gray;box-sizing: border-box;top: 0;bottom: 0;left: 50%;z-index: 0;}#sk-container-id-1 div.sk-serial {display: flex;flex-direction: column;align-items: center;background-color: white;padding-right: 0.2em;padding-left: 0.2em;position: relative;}#sk-container-id-1 div.sk-item {position: relative;z-index: 1;}#sk-container-id-1 div.sk-parallel {display: flex;align-items: stretch;justify-content: center;background-color: white;position: relative;}#sk-container-id-1 div.sk-item::before, #sk-container-id-1 div.sk-parallel-item::before {content: \"\";position: absolute;border-left: 1px solid gray;box-sizing: border-box;top: 0;bottom: 0;left: 50%;z-index: -1;}#sk-container-id-1 div.sk-parallel-item {display: flex;flex-direction: column;z-index: 1;position: relative;background-color: white;}#sk-container-id-1 div.sk-parallel-item:first-child::after {align-self: flex-end;width: 50%;}#sk-container-id-1 div.sk-parallel-item:last-child::after {align-self: flex-start;width: 50%;}#sk-container-id-1 div.sk-parallel-item:only-child::after {width: 0;}#sk-container-id-1 div.sk-dashed-wrapped {border: 1px dashed gray;margin: 0 0.4em 0.5em 0.4em;box-sizing: border-box;padding-bottom: 0.4em;background-color: white;}#sk-container-id-1 div.sk-label label {font-family: monospace;font-weight: bold;display: inline-block;line-height: 1.2em;}#sk-container-id-1 div.sk-label-container {text-align: center;}#sk-container-id-1 div.sk-container {/* jupyter's `normalize.less` sets `[hidden] { display: none; }` but bootstrap.min.css set `[hidden] { display: none !important; }` so we also need the `!important` here to be able to override the default hidden behavior on the sphinx rendered scikit-learn.org. See: https://github.com/scikit-learn/scikit-learn/issues/21755 */display: inline-block !important;position: relative;}#sk-container-id-1 div.sk-text-repr-fallback {display: none;}</style><div id=\"sk-container-id-1\" class=\"sk-top-container\"><div class=\"sk-text-repr-fallback\"><pre>LogisticRegression()</pre><b>In a Jupyter environment, please rerun this cell to show the HTML representation or trust the notebook. <br />On GitHub, the HTML representation is unable to render, please try loading this page with nbviewer.org.</b></div><div class=\"sk-container\" hidden><div class=\"sk-item\"><div class=\"sk-estimator sk-toggleable\"><input class=\"sk-toggleable__control sk-hidden--visually\" id=\"sk-estimator-id-1\" type=\"checkbox\" checked><label for=\"sk-estimator-id-1\" class=\"sk-toggleable__label sk-toggleable__label-arrow\">LogisticRegression</label><div class=\"sk-toggleable__content\"><pre>LogisticRegression()</pre></div></div></div></div></div>"
            ]
          },
          "metadata": {},
          "execution_count": 13
        }
      ]
    },
    {
      "cell_type": "code",
      "source": [
        "#предсказание на тестовой выборке\n",
        "y_pred=model_reg.predict(X_test_scaled)"
      ],
      "metadata": {
        "id": "i74UZOWwOxVA"
      },
      "execution_count": 14,
      "outputs": []
    },
    {
      "cell_type": "code",
      "source": [
        "# вычисление точности модели лог регрессии\n",
        "accuracy = accuracy_score(y_test, model_reg.predict(X_test_scaled))\n",
        "print(f'Accuracy: {accuracy:.3f}')"
      ],
      "metadata": {
        "colab": {
          "base_uri": "https://localhost:8080/"
        },
        "id": "rrpnYWH9YC33",
        "outputId": "35ea2ae2-a034-476d-eba6-cf764f66f1dd"
      },
      "execution_count": 15,
      "outputs": [
        {
          "output_type": "stream",
          "name": "stdout",
          "text": [
            "Accuracy: 0.885\n"
          ]
        }
      ]
    },
    {
      "cell_type": "code",
      "source": [
        "\n",
        "from sklearn.metrics import classification_report\n",
        "print(classification_report(y_test, y_pred))"
      ],
      "metadata": {
        "colab": {
          "base_uri": "https://localhost:8080/"
        },
        "id": "IqO-AbsWY4Yd",
        "outputId": "52dd1e02-4658-45f8-a724-a4aff558107e"
      },
      "execution_count": 16,
      "outputs": [
        {
          "output_type": "stream",
          "name": "stdout",
          "text": [
            "              precision    recall  f1-score   support\n",
            "\n",
            "           0       0.89      0.86      0.88        29\n",
            "           1       0.88      0.91      0.89        32\n",
            "\n",
            "    accuracy                           0.89        61\n",
            "   macro avg       0.89      0.88      0.88        61\n",
            "weighted avg       0.89      0.89      0.89        61\n",
            "\n"
          ]
        }
      ]
    },
    {
      "cell_type": "code",
      "source": [
        "#построение roc кривой\n",
        "from sklearn.metrics import roc_auc_score\n",
        "from sklearn.metrics import roc_curve\n",
        "import matplotlib.pyplot as plt\n",
        "\n",
        "logit_roc_auc = roc_auc_score(y_test, model_reg.predict(X_test_scaled))\n",
        "fpr, tpr, thresholds = roc_curve(y_test, model_reg.predict_proba(X_test_scaled)[:,1])\n",
        "plt.figure()\n",
        "plt.plot(fpr, tpr, label='Logistic Regression (area = %0.2f)' % logit_roc_auc)\n",
        "plt.plot([0, 1], [0, 1],'r--')\n",
        "plt.xlim([0.0, 1.0])\n",
        "plt.ylim([0.0, 1.05])\n",
        "plt.xlabel('False Positive Rate')\n",
        "plt.ylabel('True Positive Rate')\n",
        "plt.title('Receiver operating characteristic')\n",
        "plt.legend(loc=\"lower right\")\n",
        "plt.savefig('Log_ROC')\n",
        "plt.show()"
      ],
      "metadata": {
        "colab": {
          "base_uri": "https://localhost:8080/",
          "height": 472
        },
        "id": "RmOEsSf2a2Xi",
        "outputId": "2ee4f736-540c-4f1b-e5f8-5b179bdb1631"
      },
      "execution_count": 17,
      "outputs": [
        {
          "output_type": "display_data",
          "data": {
            "text/plain": [
              "<Figure size 640x480 with 1 Axes>"
            ],
            "image/png": "[encoded data removed]"
          },
          "metadata": {}
        }
      ]
    },
    {
      "cell_type": "code",
      "source": [
        "#получение сводки модели с помощью statsmodels\n",
        "\n",
        "import statsmodels.api as sm\n",
        "logit_model=sm.Logit(y_train,X_train)\n",
        "result=logit_model.fit()\n",
        "print(result.summary2())"
      ],
      "metadata": {
        "colab": {
          "base_uri": "https://localhost:8080/"
        },
        "id": "U6xOXQPE4Qp0",
        "outputId": "86da2762-5dcf-4522-9475-21fbcb2330ae"
      },
      "execution_count": 14,
      "outputs": [
        {
          "output_type": "stream",
          "name": "stdout",
          "text": [
            "Optimization terminated successfully.\n",
            "         Current function value: 0.353165\n",
            "         Iterations 7\n",
            "                         Results: Logit\n",
            "=================================================================\n",
            "Model:              Logit            Method:           MLE       \n",
            "Dependent Variable: output           Pseudo R-squared: 0.487     \n",
            "Date:               2023-08-27 11:30 AIC:              192.9320  \n",
            "No. Observations:   242              BIC:              231.3103  \n",
            "Df Model:           10               Log-Likelihood:   -85.466   \n",
            "Df Residuals:       231              LL-Null:          -166.55   \n",
            "Converged:          1.0000           LLR p-value:      1.1562e-29\n",
            "No. Iterations:     7.0000           Scale:            1.0000    \n",
            "------------------------------------------------------------------\n",
            "               Coef.   Std.Err.     z     P>|z|    [0.025   0.975]\n",
            "------------------------------------------------------------------\n",
            "age            0.0066    0.0192   0.3449  0.7302  -0.0311   0.0443\n",
            "sex           -1.5714    0.4813  -3.2646  0.0011  -2.5148  -0.6280\n",
            "cp             0.8805    0.2071   4.2510  0.0000   0.4745   1.2865\n",
            "trtbps        -0.0129    0.0110  -1.1771  0.2391  -0.0344   0.0086\n",
            "restecg        0.6879    0.3865   1.7799  0.0751  -0.0696   1.4455\n",
            "thalachh       0.0262    0.0088   2.9811  0.0029   0.0090   0.0435\n",
            "exng          -1.0592    0.4468  -2.3708  0.0178  -1.9348  -0.1835\n",
            "oldpeak       -0.6552    0.2422  -2.7058  0.0068  -1.1299  -0.1806\n",
            "slp            0.7542    0.3772   1.9995  0.0456   0.0149   1.4936\n",
            "caa           -0.8151    0.2195  -3.7142  0.0002  -1.2452  -0.3850\n",
            "thall         -0.9644    0.3319  -2.9052  0.0037  -1.6149  -0.3138\n",
            "=================================================================\n",
            "\n"
          ]
        }
      ]
    },
    {
      "cell_type": "code",
      "source": [
        "#удаляем незначимый фактор age\n",
        "X_train1 =X_train.drop('age', axis=1)"
      ],
      "metadata": {
        "id": "DTnnncLp8FkI"
      },
      "execution_count": 16,
      "outputs": []
    },
    {
      "cell_type": "code",
      "source": [
        "logit_model=sm.Logit(y_train,X_train1)\n",
        "result=logit_model.fit()\n",
        "print(result.summary2())"
      ],
      "metadata": {
        "colab": {
          "base_uri": "https://localhost:8080/"
        },
        "id": "l8aCqIc09pBO",
        "outputId": "8c4e321b-8f98-450e-b242-940cfb55e241"
      },
      "execution_count": 17,
      "outputs": [
        {
          "output_type": "stream",
          "name": "stdout",
          "text": [
            "Optimization terminated successfully.\n",
            "         Current function value: 0.353411\n",
            "         Iterations 7\n",
            "                         Results: Logit\n",
            "=================================================================\n",
            "Model:              Logit            Method:           MLE       \n",
            "Dependent Variable: output           Pseudo R-squared: 0.486     \n",
            "Date:               2023-08-27 11:30 AIC:              191.0511  \n",
            "No. Observations:   242              BIC:              225.9404  \n",
            "Df Model:           9                Log-Likelihood:   -85.526   \n",
            "Df Residuals:       232              LL-Null:          -166.55   \n",
            "Converged:          1.0000           LLR p-value:      2.7870e-30\n",
            "No. Iterations:     7.0000           Scale:            1.0000    \n",
            "------------------------------------------------------------------\n",
            "               Coef.   Std.Err.     z     P>|z|    [0.025   0.975]\n",
            "------------------------------------------------------------------\n",
            "sex           -1.5884    0.4781  -3.3222  0.0009  -2.5254  -0.6513\n",
            "cp             0.8800    0.2069   4.2531  0.0000   0.4745   1.2855\n",
            "trtbps        -0.0109    0.0093  -1.1740  0.2404  -0.0291   0.0073\n",
            "restecg        0.6766    0.3838   1.7630  0.0779  -0.0756   1.4287\n",
            "thalachh       0.0264    0.0088   3.0036  0.0027   0.0092   0.0436\n",
            "exng          -1.0439    0.4441  -2.3505  0.0187  -1.9143  -0.1735\n",
            "oldpeak       -0.6461    0.2400  -2.6915  0.0071  -1.1165  -0.1756\n",
            "slp            0.7641    0.3761   2.0318  0.0422   0.0270   1.5013\n",
            "caa           -0.8055    0.2186  -3.6847  0.0002  -1.2339  -0.3770\n",
            "thall         -0.9386    0.3228  -2.9077  0.0036  -1.5713  -0.3059\n",
            "=================================================================\n",
            "\n"
          ]
        }
      ]
    },
    {
      "cell_type": "code",
      "source": [
        "#удаляем незначимый фактор trtbps\n",
        "X_train2 = X_train1.drop('trtbps', axis=1)"
      ],
      "metadata": {
        "id": "q7RBvCr8_VDd"
      },
      "execution_count": 18,
      "outputs": []
    },
    {
      "cell_type": "code",
      "source": [
        "logit_model=sm.Logit(y_train,X_train2)\n",
        "result=logit_model.fit()\n",
        "print(result.summary2())"
      ],
      "metadata": {
        "colab": {
          "base_uri": "https://localhost:8080/"
        },
        "id": "iRv0a6Gq_bor",
        "outputId": "4ba5378a-3202-482b-b5d1-7a3e99d3ab08"
      },
      "execution_count": 19,
      "outputs": [
        {
          "output_type": "stream",
          "name": "stdout",
          "text": [
            "Optimization terminated successfully.\n",
            "         Current function value: 0.356297\n",
            "         Iterations 7\n",
            "                         Results: Logit\n",
            "=================================================================\n",
            "Model:              Logit            Method:           MLE       \n",
            "Dependent Variable: output           Pseudo R-squared: 0.482     \n",
            "Date:               2023-08-27 11:31 AIC:              190.4476  \n",
            "No. Observations:   242              BIC:              221.8480  \n",
            "Df Model:           8                Log-Likelihood:   -86.224   \n",
            "Df Residuals:       233              LL-Null:          -166.55   \n",
            "Converged:          1.0000           LLR p-value:      1.1687e-30\n",
            "No. Iterations:     7.0000           Scale:            1.0000    \n",
            "------------------------------------------------------------------\n",
            "               Coef.   Std.Err.     z     P>|z|    [0.025   0.975]\n",
            "------------------------------------------------------------------\n",
            "sex           -1.4858    0.4623  -3.2136  0.0013  -2.3920  -0.5796\n",
            "cp             0.8621    0.2056   4.1932  0.0000   0.4591   1.2650\n",
            "restecg        0.6806    0.3814   1.7844  0.0744  -0.0670   1.4282\n",
            "thalachh       0.0191    0.0061   3.1503  0.0016   0.0072   0.0311\n",
            "exng          -1.1637    0.4297  -2.7080  0.0068  -2.0059  -0.3214\n",
            "oldpeak       -0.7225    0.2321  -3.1122  0.0019  -1.1775  -0.2675\n",
            "slp            0.6800    0.3675   1.8506  0.0642  -0.0402   1.4002\n",
            "caa           -0.8231    0.2155  -3.8194  0.0001  -1.2455  -0.4007\n",
            "thall         -0.9916    0.3149  -3.1495  0.0016  -1.6087  -0.3745\n",
            "=================================================================\n",
            "\n"
          ]
        }
      ]
    },
    {
      "cell_type": "code",
      "source": [
        "#удаляем незначимый фактор restecg\n",
        "X_train3 = X_train2.drop('restecg', axis=1)"
      ],
      "metadata": {
        "id": "vt8rLpiYE375"
      },
      "execution_count": 20,
      "outputs": []
    },
    {
      "cell_type": "code",
      "source": [
        "logit_model=sm.Logit(y_train,X_train3)\n",
        "result=logit_model.fit()\n",
        "print(result.summary2())"
      ],
      "metadata": {
        "colab": {
          "base_uri": "https://localhost:8080/"
        },
        "id": "gsBb9oBsFAVE",
        "outputId": "630b6d28-55c5-44e0-c60b-e9f3b24ec5e2"
      },
      "execution_count": 21,
      "outputs": [
        {
          "output_type": "stream",
          "name": "stdout",
          "text": [
            "Optimization terminated successfully.\n",
            "         Current function value: 0.363047\n",
            "         Iterations 7\n",
            "                         Results: Logit\n",
            "=================================================================\n",
            "Model:              Logit            Method:           MLE       \n",
            "Dependent Variable: output           Pseudo R-squared: 0.472     \n",
            "Date:               2023-08-27 11:32 AIC:              191.7149  \n",
            "No. Observations:   242              BIC:              219.6264  \n",
            "Df Model:           7                Log-Likelihood:   -87.857   \n",
            "Df Residuals:       234              LL-Null:          -166.55   \n",
            "Converged:          1.0000           LLR p-value:      1.1390e-30\n",
            "No. Iterations:     7.0000           Scale:            1.0000    \n",
            "------------------------------------------------------------------\n",
            "               Coef.   Std.Err.     z     P>|z|    [0.025   0.975]\n",
            "------------------------------------------------------------------\n",
            "sex           -1.4941    0.4613  -3.2387  0.0012  -2.3983  -0.5899\n",
            "cp             0.8238    0.2006   4.1060  0.0000   0.4306   1.2171\n",
            "thalachh       0.0199    0.0060   3.3031  0.0010   0.0081   0.0317\n",
            "exng          -1.1054    0.4250  -2.6007  0.0093  -1.9384  -0.2723\n",
            "oldpeak       -0.6663    0.2271  -2.9344  0.0033  -1.1113  -0.2213\n",
            "slp            0.7125    0.3607   1.9756  0.0482   0.0056   1.4195\n",
            "caa           -0.8015    0.2123  -3.7754  0.0002  -1.2176  -0.3854\n",
            "thall         -0.9136    0.3088  -2.9588  0.0031  -1.5188  -0.3084\n",
            "=================================================================\n",
            "\n"
          ]
        }
      ]
    },
    {
      "cell_type": "code",
      "source": [
        "columns_to_drop = ['age','trtbps','restecg']\n",
        "print( X_test)\n",
        "X_test1 = X_test.drop(columns_to_drop,axis=1)\n",
        "print( X_test1)"
      ],
      "metadata": {
        "id": "dHLiOOXqx6gl"
      },
      "execution_count": null,
      "outputs": []
    },
    {
      "cell_type": "code",
      "source": [
        "#стандартизация данных\n",
        "scaler = StandardScaler()\n",
        "X_train_scaled_new = scaler.fit_transform(X_train3)\n",
        "X_test_scaled_new = scaler.transform(X_test1)\n",
        "\n",
        "logreg = LogisticRegression()\n",
        "logreg.fit(X_train_scaled_new, y_train)"
      ],
      "metadata": {
        "colab": {
          "base_uri": "https://localhost:8080/",
          "height": 74
        },
        "id": "wEViCN5sFfME",
        "outputId": "7c29c921-48c5-4ba7-d975-1e4c8a8c736a"
      },
      "execution_count": 30,
      "outputs": [
        {
          "output_type": "execute_result",
          "data": {
            "text/plain": [
              "LogisticRegression()"
            ],
            "text/html": [
              "<style>#sk-container-id-1 {color: black;background-color: white;}#sk-container-id-1 pre{padding: 0;}#sk-container-id-1 div.sk-toggleable {background-color: white;}#sk-container-id-1 label.sk-toggleable__label {cursor: pointer;display: block;width: 100%;margin-bottom: 0;padding: 0.3em;box-sizing: border-box;text-align: center;}#sk-container-id-1 label.sk-toggleable__label-arrow:before {content: \"▸\";float: left;margin-right: 0.25em;color: #696969;}#sk-container-id-1 label.sk-toggleable__label-arrow:hover:before {color: black;}#sk-container-id-1 div.sk-estimator:hover label.sk-toggleable__label-arrow:before {color: black;}#sk-container-id-1 div.sk-toggleable__content {max-height: 0;max-width: 0;overflow: hidden;text-align: left;background-color: #f0f8ff;}#sk-container-id-1 div.sk-toggleable__content pre {margin: 0.2em;color: black;border-radius: 0.25em;background-color: #f0f8ff;}#sk-container-id-1 input.sk-toggleable__control:checked~div.sk-toggleable__content {max-height: 200px;max-width: 100%;overflow: auto;}#sk-container-id-1 input.sk-toggleable__control:checked~label.sk-toggleable__label-arrow:before {content: \"▾\";}#sk-container-id-1 div.sk-estimator input.sk-toggleable__control:checked~label.sk-toggleable__label {background-color: #d4ebff;}#sk-container-id-1 div.sk-label input.sk-toggleable__control:checked~label.sk-toggleable__label {background-color: #d4ebff;}#sk-container-id-1 input.sk-hidden--visually {border: 0;clip: rect(1px 1px 1px 1px);clip: rect(1px, 1px, 1px, 1px);height: 1px;margin: -1px;overflow: hidden;padding: 0;position: absolute;width: 1px;}#sk-container-id-1 div.sk-estimator {font-family: monospace;background-color: #f0f8ff;border: 1px dotted black;border-radius: 0.25em;box-sizing: border-box;margin-bottom: 0.5em;}#sk-container-id-1 div.sk-estimator:hover {background-color: #d4ebff;}#sk-container-id-1 div.sk-parallel-item::after {content: \"\";width: 100%;border-bottom: 1px solid gray;flex-grow: 1;}#sk-container-id-1 div.sk-label:hover label.sk-toggleable__label {background-color: #d4ebff;}#sk-container-id-1 div.sk-serial::before {content: \"\";position: absolute;border-left: 1px solid gray;box-sizing: border-box;top: 0;bottom: 0;left: 50%;z-index: 0;}#sk-container-id-1 div.sk-serial {display: flex;flex-direction: column;align-items: center;background-color: white;padding-right: 0.2em;padding-left: 0.2em;position: relative;}#sk-container-id-1 div.sk-item {position: relative;z-index: 1;}#sk-container-id-1 div.sk-parallel {display: flex;align-items: stretch;justify-content: center;background-color: white;position: relative;}#sk-container-id-1 div.sk-item::before, #sk-container-id-1 div.sk-parallel-item::before {content: \"\";position: absolute;border-left: 1px solid gray;box-sizing: border-box;top: 0;bottom: 0;left: 50%;z-index: -1;}#sk-container-id-1 div.sk-parallel-item {display: flex;flex-direction: column;z-index: 1;position: relative;background-color: white;}#sk-container-id-1 div.sk-parallel-item:first-child::after {align-self: flex-end;width: 50%;}#sk-container-id-1 div.sk-parallel-item:last-child::after {align-self: flex-start;width: 50%;}#sk-container-id-1 div.sk-parallel-item:only-child::after {width: 0;}#sk-container-id-1 div.sk-dashed-wrapped {border: 1px dashed gray;margin: 0 0.4em 0.5em 0.4em;box-sizing: border-box;padding-bottom: 0.4em;background-color: white;}#sk-container-id-1 div.sk-label label {font-family: monospace;font-weight: bold;display: inline-block;line-height: 1.2em;}#sk-container-id-1 div.sk-label-container {text-align: center;}#sk-container-id-1 div.sk-container {/* jupyter's `normalize.less` sets `[hidden] { display: none; }` but bootstrap.min.css set `[hidden] { display: none !important; }` so we also need the `!important` here to be able to override the default hidden behavior on the sphinx rendered scikit-learn.org. See: https://github.com/scikit-learn/scikit-learn/issues/21755 */display: inline-block !important;position: relative;}#sk-container-id-1 div.sk-text-repr-fallback {display: none;}</style><div id=\"sk-container-id-1\" class=\"sk-top-container\"><div class=\"sk-text-repr-fallback\"><pre>LogisticRegression()</pre><b>In a Jupyter environment, please rerun this cell to show the HTML representation or trust the notebook. <br />On GitHub, the HTML representation is unable to render, please try loading this page with nbviewer.org.</b></div><div class=\"sk-container\" hidden><div class=\"sk-item\"><div class=\"sk-estimator sk-toggleable\"><input class=\"sk-toggleable__control sk-hidden--visually\" id=\"sk-estimator-id-1\" type=\"checkbox\" checked><label for=\"sk-estimator-id-1\" class=\"sk-toggleable__label sk-toggleable__label-arrow\">LogisticRegression</label><div class=\"sk-toggleable__content\"><pre>LogisticRegression()</pre></div></div></div></div></div>"
            ]
          },
          "metadata": {},
          "execution_count": 30
        }
      ]
    },
    {
      "cell_type": "code",
      "source": [
        "#предсказание на тестовой выборке\n",
        "y_pred=logreg.predict(X_test_scaled_new)"
      ],
      "metadata": {
        "id": "n3idN8hfy0v7"
      },
      "execution_count": 32,
      "outputs": []
    },
    {
      "cell_type": "code",
      "source": [
        "# вычисление точности модели лог регрессии\n",
        "accuracy = accuracy_score(y_test, logreg.predict(X_test_scaled_new))\n",
        "print(f'Accuracy: {accuracy:.3f}')"
      ],
      "metadata": {
        "colab": {
          "base_uri": "https://localhost:8080/"
        },
        "id": "f9BKfkj7y4sx",
        "outputId": "3d395182-3b50-4e16-c0d6-52b526e057d3"
      },
      "execution_count": 33,
      "outputs": [
        {
          "output_type": "stream",
          "name": "stdout",
          "text": [
            "Accuracy: 0.869\n"
          ]
        }
      ]
    }
  ]
}